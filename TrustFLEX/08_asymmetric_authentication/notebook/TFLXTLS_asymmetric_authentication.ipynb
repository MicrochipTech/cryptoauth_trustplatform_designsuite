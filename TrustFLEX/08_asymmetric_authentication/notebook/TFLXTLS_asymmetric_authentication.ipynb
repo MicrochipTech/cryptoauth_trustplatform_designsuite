{
 "cells": [
  {
   "cell_type": "markdown",
   "metadata": {},
   "source": [
    "# Introduction\n",
    "<font color = green> <strong>MUST READ:</strong></font> This Notebook tutorial will allow you to perform Asymmetric Authentication aka Node Authentication with TFLXTLS device. \n",
    "\n",
    "In this use case example, we will authenticate an Object/Node. It can be an accessory, peripheral, battery, or cartridge. Generally, an object that is removable and replaceable by the consumer. The purpose of authenticating an object is to ensure that it is genuine and it is authorized to connect to a product. Another purpose is to prevent cloning and counterfeiting. Asymmetric authentication uses asymmetric key algorithms (also known as public key cryptography) where each entity has a public and private key.\n",
    "\n",
    "Node authentication occurs between two devices in a host-client configuration when the client’s identity must be verified before its connection to the host can be established."
   ]
  },
  {
   "cell_type": "markdown",
   "metadata": {},
   "source": [
    "### Prerequisites:\n",
    "This step of the tutorial will attempt to load all the necessary modules and their dependencies on your machine. If the modules are already installed you can safely step over the next Tutorial step."
   ]
  },
  {
   "cell_type": "markdown",
   "metadata": {},
   "source": [
    "<font color = orange> <strong>Note</strong></font> \n",
    "1. Installation time for prerequisites depends upon system and network speed.\n",
    "2. Installing prerequisites for the first time takes more time and watch the kernel status for progress. Following image helps to locate the Kernel status,\n",
    "<center><img src=\"../../../assets/notebook/img/kerner_status.png\" alt=\"**Check Kernel Status**\" /></center>\n",
    "\n",
    "\n",
    "3. Installing prerequisites gives the following error and it can be safely ignored. Functionality remains unaffected.\n",
    "    - <font color = orange> azure-cli 2.0.76 has requirement colorama~=0.4.1, but you'll have colorama 0.3.9 which is incompatible.</font>\n",
    "    - <font color = orange>  azure-cli 2.0.76 has requirement pytz==2019.1, but you'll have pytz 2019.3 which is incompatible. </font>"
   ]
  },
  {
   "cell_type": "code",
   "execution_count": null,
   "metadata": {
    "scrolled": true
   },
   "outputs": [],
   "source": [
    "import sys, os\n",
    "\n",
    "home_path = os.path.dirname(os.path.dirname(os.path.dirname(os.path.realpath(os.getcwd()))))\n",
    "module_path = os.path.join(home_path, 'assets', 'python')\n",
    "if not module_path in sys.path:\n",
    "    sys.path.append(module_path)\n",
    "\n",
    "from requirements_helper import requirements_installer\n",
    "obj = requirements_installer(os.path.join(home_path, 'assets', 'requirements.txt'))"
   ]
  },
  {
   "cell_type": "markdown",
   "metadata": {},
   "source": [
    "### Setup Modules and Hardware\n",
    "This step loads the required modules and helper functions to perform the resource generation sequence. It also \n",
    "1. Initializes the interface with TFLXTLS hardware and establishes commmunication with TFLXTLS.\n",
    "2. Performs device initialization to verify the actual device attached"
   ]
  },
  {
   "cell_type": "code",
   "execution_count": null,
   "metadata": {
    "scrolled": true
   },
   "outputs": [],
   "source": [
    "import warnings\n",
    "import ipywidgets as widgets\n",
    "\n",
    "from ipywidgets import FileUpload\n",
    "from base64 import b16encode\n",
    "from cryptoauthlib import *\n",
    "from cryptography.hazmat.backends import default_backend\n",
    "from cryptography.hazmat.primitives import hashes\n",
    "from cryptography.hazmat.primitives.serialization import Encoding, PublicFormat\n",
    "from cryptography.hazmat.primitives.asymmetric import ec, utils\n",
    "from cryptography.utils import int_from_bytes\n",
    "\n",
    "from certs_handler import *\n",
    "from trustplatform import *\n",
    "from asymm_auth_helper import *\n",
    "\n",
    "layout=widgets.Layout(width='auto')\n",
    "warnings.filterwarnings('ignore')\n",
    "print('Importing modules - Successful')\n",
    "\n",
    "#TFLXTLS device I2C address 0x6C; #TNGTLS device I2C address 0x6A; \n",
    "common_helper.connect_to_secure_element('ATECC608', ATCAKitType.ATCA_KIT_I2C_IFACE, 0x6C)\n",
    "print(\"Device initialization - Successful\")"
   ]
  },
  {
   "cell_type": "markdown",
   "metadata": {},
   "source": [
    "### Verify Certificate Chain\n",
    "\n",
    "This is split into multiple steps. The process of verification includes Reading (Client Build) both Signer and Device Certificates from Secure element, Signer and Device Certificates verification by host (Host Verify) and verify that the Device holds the associated Private key (Verify Device Private Key).\n",
    "\n",
    "#### FIGURE: Verifying the Node\n",
    "\n",
    "<left><img src=\"img/authenticating_the_node.png\" alt=\"\" /></center>"
   ]
  },
  {
   "cell_type": "code",
   "execution_count": null,
   "metadata": {
    "scrolled": true
   },
   "outputs": [],
   "source": [
    "def process_node_authentication():\n",
    "    ####################################################################\n",
    "    print('\\nclient rebuild certificates...')\n",
    "    try:\n",
    "        root_cert, signer_cert, device_cert_def, device_cert = rebuild_cert(root_cert_object, signer_cert_object, device_cert_object)\n",
    "    except:\n",
    "        return 'danger'\n",
    "    \n",
    "    ####################################################################\n",
    "    print('\\nhost verify cert chain...')\n",
    "    assert verify_cert_chain(root_cert, signer_cert, device_cert) == 0, 'Certificate chain is invalid!'\n",
    "\n",
    "    ####################################################################\n",
    "    print('host generate challenge...', end='')\n",
    "    challenge = os.urandom(32)\n",
    "    print('OK(Challenge: {})'.format(challenge.hex().upper()))\n",
    "\n",
    "    ####################################################################\n",
    "    print('client generate response...', end='')\n",
    "    response = bytearray(64)\n",
    "    assert atcacert_get_response(device_cert_def.private_key_slot, challenge, response) == CertStatus.ATCACERT_E_SUCCESS\n",
    "    print('OK(Response: {})'.format(response.hex().upper()))\n",
    "\n",
    "    ####################################################################\n",
    "    print('host_verify_response:')\n",
    "    r = int_from_bytes(response[0:32], byteorder='big', signed=False)\n",
    "    s = int_from_bytes(response[32:64], byteorder='big', signed=False)\n",
    "    sign = utils.encode_dss_signature(r, s)\n",
    "    try:\n",
    "        device_cert.public_key().verify(sign, challenge, ec.ECDSA(utils.Prehashed(hashes.SHA256())))\n",
    "        print('\\tNode has associated private key!\\n')\n",
    "    except:\n",
    "        print('\\tNode failed to prove its private key!')\n",
    "        return 'danger'\n",
    "    \n",
    "    print('Node authentication completed successfully.')\n",
    "    print('------------------------------------------------------')\n",
    "    return 'success'\n",
    "\n",
    "def node_authenticate_cb(b):\n",
    "    node_authenticate.button_style = 'danger'\n",
    "    node_authenticate.button_style = process_node_authentication()\n",
    "\n",
    "root_cert_object = FileUpload(description='Select Root cert', accept='.crt', layout=widgets.Layout(width='auto'), multiple=False)\n",
    "signer_cert_object = FileUpload(description='Select Signer cert', accept='.crt', layout=widgets.Layout(width='auto'), multiple=False)\n",
    "device_cert_object = FileUpload(description='Select Device cert Template', accept='.crt', layout=widgets.Layout(width='auto'), multiple=False)\n",
    "tooltip='Click to execute Node authentication steps'\n",
    "node_authenticate = widgets.Button(description='Authenticate Node',tooltip=tooltip)\n",
    "node_authenticate.on_click(node_authenticate_cb)\n",
    "\n",
    "print('Select certificate templates for cert def files...')\n",
    "display(widgets.VBox((root_cert_object, signer_cert_object, device_cert_object)))\n",
    "display(node_authenticate)"
   ]
  }
 ],
 "metadata": {
  "kernelspec": {
   "display_name": "Python 3",
   "language": "python",
   "name": "python3"
  },
  "language_info": {
   "codemirror_mode": {
    "name": "ipython",
    "version": 3
   },
   "file_extension": ".py",
   "mimetype": "text/x-python",
   "name": "python",
   "nbconvert_exporter": "python",
   "pygments_lexer": "ipython3",
   "version": "3.7.7"
  }
 },
 "nbformat": 4,
 "nbformat_minor": 2
}